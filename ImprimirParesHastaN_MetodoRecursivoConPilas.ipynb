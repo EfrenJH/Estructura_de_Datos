{
  "nbformat": 4,
  "nbformat_minor": 0,
  "metadata": {
    "colab": {
      "provenance": [],
      "authorship_tag": "ABX9TyOWmzfYrvGAO/jKN5isrPOZ",
      "include_colab_link": true
    },
    "kernelspec": {
      "name": "python3",
      "display_name": "Python 3"
    },
    "language_info": {
      "name": "python"
    }
  },
  "cells": [
    {
      "cell_type": "markdown",
      "metadata": {
        "id": "view-in-github",
        "colab_type": "text"
      },
      "source": [
        "<a href=\"https://colab.research.google.com/github/EfrenJH/Efr-n-Jacobo-Hern-ndez---Estructura-de-Datos/blob/main/ImprimirParesHastaN_MetodoRecursivoConPilas.ipynb\" target=\"_parent\"><img src=\"https://colab.research.google.com/assets/colab-badge.svg\" alt=\"Open In Colab\"/></a>"
      ]
    },
    {
      "cell_type": "code",
      "execution_count": 3,
      "metadata": {
        "colab": {
          "base_uri": "https://localhost:8080/"
        },
        "id": "O5I2pPxXoAUM",
        "outputId": "c755040e-a5ad-464e-b436-e4b3a0eb4ef0"
      },
      "outputs": [
        {
          "output_type": "stream",
          "name": "stdout",
          "text": [
            "2 4 6 8 10 \n"
          ]
        }
      ],
      "source": [
        "def imprimirParesHastaN(n):\n",
        "  if type(n) != int or n < 1:\n",
        "    raise Exception(\"n debe ser entero positivo.\")\n",
        "  n -= n % 2\n",
        "  imprimirParesHastaNAux(n)\n",
        "  print()\n",
        "\n",
        "def imprimirParesHastaNAux(n):\n",
        "  if n == 0:\n",
        "    return\n",
        "  else:\n",
        "    imprimirParesHastaNAux(n - 2)\n",
        "    print(n, end=\" \")\n",
        "\n",
        "imprimirParesHastaN(11)"
      ]
    }
  ]
}