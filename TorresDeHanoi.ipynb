{
  "nbformat": 4,
  "nbformat_minor": 0,
  "metadata": {
    "colab": {
      "provenance": [],
      "authorship_tag": "ABX9TyPAYOls3r1P2cWkcaeY1SKO",
      "include_colab_link": true
    },
    "kernelspec": {
      "name": "python3",
      "display_name": "Python 3"
    },
    "language_info": {
      "name": "python"
    }
  },
  "cells": [
    {
      "cell_type": "markdown",
      "metadata": {
        "id": "view-in-github",
        "colab_type": "text"
      },
      "source": [
        "<a href=\"https://colab.research.google.com/github/EfrenJH/Estructura_de_Datos/blob/main/TorresDeHanoi.ipynb\" target=\"_parent\"><img src=\"https://colab.research.google.com/assets/colab-badge.svg\" alt=\"Open In Colab\"/></a>"
      ]
    },
    {
      "cell_type": "code",
      "execution_count": null,
      "metadata": {
        "colab": {
          "base_uri": "https://localhost:8080/"
        },
        "id": "xubJtEbQ5uH5",
        "outputId": "dadd396b-3da4-4eec-ffd8-eae9c33aebc3"
      },
      "outputs": [
        {
          "output_type": "stream",
          "name": "stdout",
          "text": [
            "Ingrese la cantidad de discos para la Torre de Hanoi: 3\n",
            "\n",
            "--- ESTADO INICIAL ---\n",
            "Torre A: [3, 2, 1]\n",
            "Torre B: []\n",
            "Torre C: []\n",
            "\n",
            "--- COMIENZAN LOS MOVIMIENTOS ---\n",
            "(1) Mover disco 1 de Torre A a Torre B\n",
            "(2) Mover disco 2 de Torre A a Torre C\n",
            "(3) Mover disco 1 de Torre B a Torre C\n",
            "(4) Mover disco 3 de Torre A a Torre B\n",
            "(5) Mover disco 1 de Torre C a Torre A\n",
            "(6) Mover disco 2 de Torre C a Torre B\n",
            "(7) Mover disco 1 de Torre A a Torre B\n",
            "\n",
            "--- ESTADO FINAL --- 🏁\n",
            "Torre A: []\n",
            "Torre B: [3, 2, 1]\n",
            "Torre C: []\n",
            "\n",
            " Se completó en un total de 7 movimientos.\n"
          ]
        }
      ],
      "source": [
        "class Pila:\n",
        "    def __init__(self):\n",
        "        self.items = []\n",
        "\n",
        "    def push(self, dato):\n",
        "        self.items.append(dato)\n",
        "\n",
        "    def pop(self):\n",
        "        return self.items.pop() if not self.is_empty() else None\n",
        "\n",
        "    def peek(self):\n",
        "        return self.items[-1] if not self.is_empty() else None\n",
        "\n",
        "    def is_empty(self):\n",
        "        return len(self.items) == 0\n",
        "\n",
        "    def __str__(self):\n",
        "        return str(self.items)\n",
        "\n",
        "contador_movimientos = 0\n",
        "\n",
        "def hanoi(n, origen, destino, auxiliar, nombre_origen, nombre_destino, nombre_auxiliar):\n",
        "    global contador_movimientos\n",
        "\n",
        "    if n == 1:\n",
        "        disco = origen.pop()\n",
        "        destino.push(disco)\n",
        "        contador_movimientos += 1\n",
        "        print(f\"({contador_movimientos}) Mover disco {disco} de Torre {nombre_origen} a Torre {nombre_destino}\")\n",
        "        return\n",
        "\n",
        "    hanoi(n - 1, origen, auxiliar, destino, nombre_origen, nombre_auxiliar, nombre_destino)\n",
        "\n",
        "    disco = origen.pop()\n",
        "    destino.push(disco)\n",
        "    contador_movimientos += 1\n",
        "    print(f\"({contador_movimientos}) Mover disco {disco} de Torre {nombre_origen} a Torre {nombre_destino}\")\n",
        "\n",
        "    hanoi(n - 1, auxiliar, destino, origen, nombre_auxiliar, nombre_destino, nombre_origen)\n",
        "\n",
        "\n",
        "\n",
        "torre_A = Pila()\n",
        "torre_B = Pila()\n",
        "torre_C = Pila()\n",
        "\n",
        "try:\n",
        "    num_discos = int(input(\"Ingrese la cantidad de discos para la Torre de Hanoi: \"))\n",
        "    if num_discos <= 0:\n",
        "        print(\"Por favor, ingrese un número positivo de discos.\")\n",
        "    else:\n",
        "        for i in range(num_discos, 0, -1):\n",
        "            torre_A.push(i)\n",
        "\n",
        "        print(\"\\n--- ESTADO INICIAL ---\")\n",
        "        print(f\"Torre A: {torre_A}\")\n",
        "        print(f\"Torre B: {torre_B}\")\n",
        "        print(f\"Torre C: {torre_C}\")\n",
        "        print(\"\\n--- COMIENZAN LOS MOVIMIENTOS ---\")\n",
        "\n",
        "        hanoi(num_discos, torre_A, torre_B, torre_C, 'A', 'B', 'C')\n",
        "\n",
        "        print(\"\\n--- ESTADO FINAL --- 🏁\")\n",
        "        print(f\"Torre A: {torre_A}\")\n",
        "        print(f\"Torre B: {torre_B}\")\n",
        "        print(f\"Torre C: {torre_C}\")\n",
        "        print(f\"\\n Se completó en un total de {contador_movimientos} movimientos.\")\n",
        "\n",
        "except ValueError:\n",
        "    print(\"Entrada no válida. Por favor, ingrese un número entero.\")"
      ]
    }
  ]
}