{
  "nbformat": 4,
  "nbformat_minor": 0,
  "metadata": {
    "colab": {
      "provenance": [],
      "authorship_tag": "ABX9TyMkyCv+25UenSql93GA9QwF",
      "include_colab_link": true
    },
    "kernelspec": {
      "name": "python3",
      "display_name": "Python 3"
    },
    "language_info": {
      "name": "python"
    }
  },
  "cells": [
    {
      "cell_type": "markdown",
      "metadata": {
        "id": "view-in-github",
        "colab_type": "text"
      },
      "source": [
        "<a href=\"https://colab.research.google.com/github/EfrenJH/Estructura_de_Datos/blob/main/Ejercicio_BinarioADecimal.ipynb\" target=\"_parent\"><img src=\"https://colab.research.google.com/assets/colab-badge.svg\" alt=\"Open In Colab\"/></a>"
      ]
    },
    {
      "cell_type": "markdown",
      "source": [
        "BINARIO A DECIMAL -> NO DETERMINÍSTICO\n",
        "Crea un programa que se encargue de transformar un número binario a decimal sin utilizar funciones propios que lo hagan directamente\n",
        "\n",
        "Determinar qué operaciones se emplean y su costo relativo:\n",
        "Binario\n",
        "\n",
        "Determinar conjuntos de datos:\n",
        "Si es el último valor ingresado se realiza con potencia de 2\n",
        "\n",
        "Análisis a priori:\n",
        "Se agarra el último carácter y se eleva, todo ello en un tiempo constante que sucede.\n",
        "\n",
        "\n",
        "Análisis a posteriori:\n",
        "El tiempo conforme se va a ir aumentando a medida que la cantidad sea más grande."
      ],
      "metadata": {
        "id": "DgjFjaZu80c2"
      }
    },
    {
      "cell_type": "code",
      "execution_count": null,
      "metadata": {
        "colab": {
          "base_uri": "https://localhost:8080/"
        },
        "id": "f72KNkmJ8E1A",
        "outputId": "278d62d1-cb5f-44b7-e333-bbe7f2bef456"
      },
      "outputs": [
        {
          "output_type": "stream",
          "name": "stdout",
          "text": [
            "Binario: 1011\n",
            "Decimal: 11\n",
            "--------------------\n",
            "Binario: 110101\n",
            "Decimal: 53\n",
            "--------------------\n",
            "Binario: 1021\n",
            "Decimal: Error: El string contiene caracteres no binarios.\n"
          ]
        }
      ],
      "source": [
        "class Pila:\n",
        "    def __init__(self):\n",
        "        self.items = []\n",
        "\n",
        "    def push(self, dato):\n",
        "        self.items.append(dato)\n",
        "\n",
        "    def pop(self):\n",
        "        return self.items.pop() if not self.is_empty() else None\n",
        "\n",
        "    def peek(self):\n",
        "        return self.items[-1] if not self.is_empty() else None\n",
        "\n",
        "    def is_empty(self):\n",
        "        return len(self.items) == 0\n",
        "\n",
        "\n",
        "def binario_a_decimal(binario):\n",
        "    pila = Pila()\n",
        "\n",
        "    for digito in binario:\n",
        "        if digito in '01':\n",
        "            pila.push(int(digito))\n",
        "        else:\n",
        "            return \"Error: El string contiene caracteres no binarios.\"\n",
        "\n",
        "    decimal = 0\n",
        "    potencia = 0\n",
        "\n",
        "    while not pila.is_empty():\n",
        "        valor = pila.pop()\n",
        "        decimal += valor * (2 ** potencia)\n",
        "        potencia += 1\n",
        "\n",
        "    return decimal\n",
        "\n",
        "binario1 = \"1011\"\n",
        "print(f\"Binario: {binario1}\")\n",
        "print(f\"Decimal: {binario_a_decimal(binario1)}\")\n",
        "\n",
        "print(\"-\" * 20)\n",
        "\n",
        "binario2 = \"110101\"\n",
        "print(f\"Binario: {binario2}\")\n",
        "print(f\"Decimal: {binario_a_decimal(binario2)}\")\n",
        "\n",
        "print(\"-\" * 20)\n",
        "\n",
        "binario_invalido = \"1021\"\n",
        "print(f\"Binario: {binario_invalido}\")\n",
        "print(f\"Decimal: {binario_a_decimal(binario_invalido)}\")"
      ]
    }
  ]
}