{
  "nbformat": 4,
  "nbformat_minor": 0,
  "metadata": {
    "colab": {
      "provenance": [],
      "authorship_tag": "ABX9TyMM/W3n2W9q8qzwd0LB9zhX",
      "include_colab_link": true
    },
    "kernelspec": {
      "name": "python3",
      "display_name": "Python 3"
    },
    "language_info": {
      "name": "python"
    }
  },
  "cells": [
    {
      "cell_type": "markdown",
      "metadata": {
        "id": "view-in-github",
        "colab_type": "text"
      },
      "source": [
        "<a href=\"https://colab.research.google.com/github/EfrenJH/Estructura_de_Datos/blob/main/Ejercicio_FilaPrioridad.ipynb\" target=\"_parent\"><img src=\"https://colab.research.google.com/assets/colab-badge.svg\" alt=\"Open In Colab\"/></a>"
      ]
    },
    {
      "cell_type": "code",
      "execution_count": 2,
      "metadata": {
        "id": "yyXX7c93wQN9",
        "colab": {
          "base_uri": "https://localhost:8080/"
        },
        "outputId": "a77ade4a-9e53-496d-be4d-67429d1cb25c"
      },
      "outputs": [
        {
          "output_type": "stream",
          "name": "stdout",
          "text": [
            "--- Registro de Clientes en Fila de Llegada ---\n",
            "Ingrese el nombre del cliente 1: efren\n",
            "Prioridad para efren (1: Inversión, 2: Cuenta, 3: Normal): 3\n",
            "Ingrese el nombre del cliente 2: hugo\n",
            "Prioridad para hugo (1: Inversión, 2: Cuenta, 3: Normal): 2\n",
            "Ingrese el nombre del cliente 3: gael\n",
            "Prioridad para gael (1: Inversión, 2: Cuenta, 3: Normal): 1\n",
            "Ingrese el nombre del cliente 4: kevin\n",
            "Prioridad para kevin (1: Inversión, 2: Cuenta, 3: Normal): 2\n",
            "Ingrese el nombre del cliente 5: jona\n",
            "Prioridad para jona (1: Inversión, 2: Cuenta, 3: Normal): 3\n",
            "Ingrese el nombre del cliente 6: charlie\n",
            "Prioridad para charlie (1: Inversión, 2: Cuenta, 3: Normal): 3\n",
            "Ingrese el nombre del cliente 7: cristian\n",
            "Prioridad para cristian (1: Inversión, 2: Cuenta, 3: Normal): 2\n",
            "Ingrese el nombre del cliente 8: juan\n",
            "Prioridad para juan (1: Inversión, 2: Cuenta, 3: Normal): 1\n",
            "Ingrese el nombre del cliente 9: pepe\n",
            "Prioridad para pepe (1: Inversión, 2: Cuenta, 3: Normal): 3\n",
            "Ingrese el nombre del cliente 10: lalo\n",
            "Prioridad para lalo (1: Inversión, 2: Cuenta, 3: Normal): 3\n",
            "\n",
            "========================================\n",
            "           RESULTADOS FINALES (CORREGIDO)\n",
            "========================================\n",
            "\n",
            "## Arreglo 1: Fila de Llegada (Bidimensional)\n",
            "Formato: [Nombre, Prioridad]\n",
            "[['efren', 3], ['hugo', 2], ['gael', 1], ['kevin', 2], ['jona', 3], ['charlie', 3], ['cristian', 2], ['juan', 1], ['pepe', 3], ['lalo', 3]]\n",
            "\n",
            "## Arreglo 2: Fila de Atención Final (Unidimensional)\n",
            "Formato: Nombre (Prioridad)\n",
            "1. efren (Prioridad 3)\n",
            "2. gael (Prioridad 1)\n",
            "3. hugo (Prioridad 2)\n",
            "4. kevin (Prioridad 2)\n",
            "5. juan (Prioridad 1)\n",
            "6. cristian (Prioridad 2)\n",
            "7. jona (Prioridad 3)\n",
            "8. charlie (Prioridad 3)\n",
            "9. pepe (Prioridad 3)\n",
            "10. lalo (Prioridad 3)\n"
          ]
        }
      ],
      "source": [
        "def simular_atencion_bancaria():\n",
        "\n",
        "    fila_llegada_bidimensional = []\n",
        "\n",
        "    print(\"--- Registro de Clientes en Fila de Llegada ---\")\n",
        "    for i in range(10):\n",
        "        nombre = input(f\"Ingrese el nombre del cliente {i + 1}: \")\n",
        "\n",
        "        while True:\n",
        "            try:\n",
        "                prioridad = int(input(f\"Prioridad para {nombre} (1: Inversión, 2: Cuenta, 3: Normal): \"))\n",
        "                if prioridad in [1, 2, 3]:\n",
        "                    break\n",
        "                else:\n",
        "                    print(\"Error: La prioridad debe ser 1, 2 o 3.\")\n",
        "            except ValueError:\n",
        "                print(\"Error: Por favor, ingrese un número válido.\")\n",
        "\n",
        "        fila_llegada_bidimensional.append([nombre, prioridad])\n",
        "\n",
        "    if not fila_llegada_bidimensional:\n",
        "        print(\"\\nNo hay clientes para atender.\")\n",
        "        return\n",
        "\n",
        "    fila_atencion = []\n",
        "\n",
        "    primer_cliente = fila_llegada_bidimensional[0]\n",
        "    fila_atencion.append(primer_cliente)\n",
        "\n",
        "    for i in range(1, len(fila_llegada_bidimensional)):\n",
        "        cliente_actual = fila_llegada_bidimensional[i]\n",
        "        nombre_actual, prioridad_actual = cliente_actual\n",
        "\n",
        "        if prioridad_actual == 1:\n",
        "            max_saltos = 3\n",
        "        elif prioridad_actual == 2:\n",
        "            max_saltos = 2\n",
        "        else:\n",
        "            max_saltos = 0\n",
        "\n",
        "        saltos_realizados = 0\n",
        "        posicion_insercion = len(fila_atencion)\n",
        "\n",
        "        for j in range(len(fila_atencion) - 1, -1, -1):\n",
        "            cliente_en_fila = fila_atencion[j]\n",
        "            prioridad_en_fila = cliente_en_fila[1]\n",
        "\n",
        "            if prioridad_actual < prioridad_en_fila and saltos_realizados < max_saltos:\n",
        "                saltos_realizados += 1\n",
        "                posicion_insercion = j\n",
        "            else:\n",
        "                posicion_insercion = j + 1\n",
        "                break\n",
        "\n",
        "        if posicion_insercion == 0:\n",
        "            posicion_insercion = 1\n",
        "\n",
        "        fila_atencion.insert(posicion_insercion, cliente_actual)\n",
        "\n",
        "    fila_atencion_unidimensional = [f\"{cliente[0]} (Prioridad {cliente[1]})\" for cliente in fila_atencion]\n",
        "\n",
        "    print(\"\\n\\n           RESULTADOS FINALES\\n\\n\")\n",
        "\n",
        "    print(\"\\n## Arreglo 1: Fila de Llegada (Bidimensional)\")\n",
        "    print(\"Formato: [Nombre, Prioridad]\")\n",
        "    print(fila_llegada_bidimensional)\n",
        "\n",
        "    print(\"\\n## Arreglo 2: Fila de Atención Final (Unidimensional)\")\n",
        "    print(\"Formato: Nombre (Prioridad)\")\n",
        "    for i, cliente_str in enumerate(fila_atencion_unidimensional):\n",
        "        print(f\"{i + 1}. {cliente_str}\")\n",
        "\n",
        "simular_atencion_bancaria()"
      ]
    }
  ]
}