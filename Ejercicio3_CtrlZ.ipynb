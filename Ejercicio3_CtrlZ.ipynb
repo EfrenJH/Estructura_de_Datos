{
  "nbformat": 4,
  "nbformat_minor": 0,
  "metadata": {
    "colab": {
      "provenance": [],
      "authorship_tag": "ABX9TyPlZhkzpYRuNCpskOYrdiiu",
      "include_colab_link": true
    },
    "kernelspec": {
      "name": "python3",
      "display_name": "Python 3"
    },
    "language_info": {
      "name": "python"
    }
  },
  "cells": [
    {
      "cell_type": "markdown",
      "metadata": {
        "id": "view-in-github",
        "colab_type": "text"
      },
      "source": [
        "<a href=\"https://colab.research.google.com/github/EfrenJH/Estructura_de_Datos/blob/main/Ejercicio3_CtrlZ.ipynb\" target=\"_parent\"><img src=\"https://colab.research.google.com/assets/colab-badge.svg\" alt=\"Open In Colab\"/></a>"
      ]
    },
    {
      "cell_type": "code",
      "execution_count": null,
      "metadata": {
        "id": "WzOdlnHk4dIt"
      },
      "outputs": [],
      "source": [
        "class Pila:\n",
        "    def __init__(self):\n",
        "        self.items = []\n",
        "\n",
        "    def push(self, dato):\n",
        "        self.items.append(dato)\n",
        "\n",
        "    def pop(self):\n",
        "        return self.items.pop() if not self.is_empty() else None\n",
        "\n",
        "    def is_empty(self):\n",
        "        return len(self.items) == 0\n",
        "\n",
        "historial = Pila()\n",
        "texto_actual = \"\"\n",
        "\n",
        "while True:\n",
        "    print(\"-\" * 30)\n",
        "    print(f\"Texto actual: '{texto_actual}'\")\n",
        "    print(\"\\nOpciones:\")\n",
        "    print(\"1. Escribir (agrega texto al final)\")\n",
        "    print(\"2. Deshacer (vuelve al estado anterior)\")\n",
        "    print(\"3. Salir\")\n",
        "\n",
        "    opcion = input(\"Elige una opción: \")\n",
        "\n",
        "    if opcion == '1':\n",
        "        historial.push(texto_actual)\n",
        "\n",
        "        texto_a_agregar = input(\"Escribe el texto a agregar: \")\n",
        "        texto_actual += texto_a_agregar\n",
        "        texto_actual += \" \"\n",
        "        print(\"Texto agregado correctamente.\")\n",
        "\n",
        "    elif opcion == '2':\n",
        "        estado_anterior = historial.pop()\n",
        "\n",
        "        if estado_anterior is not None:\n",
        "            texto_actual = estado_anterior\n",
        "            print(\"Operación deshecha correctamente.\")\n",
        "        else:\n",
        "            print(\"No hay más acciones que deshacer.\")\n",
        "\n",
        "    elif opcion == '3':\n",
        "        print(\"¡Gracias por utilizar nuestro programa!\")\n",
        "        break\n",
        "\n",
        "    else:\n",
        "        print(\" ¡ERROR! Opción no válida. Inténtalo de nuevo.\")"
      ]
    }
  ]
}