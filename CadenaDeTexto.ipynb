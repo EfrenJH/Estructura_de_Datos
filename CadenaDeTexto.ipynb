{
  "nbformat": 4,
  "nbformat_minor": 0,
  "metadata": {
    "colab": {
      "provenance": [],
      "authorship_tag": "ABX9TyM4I+IWLV6E0Yo4bN4fo8r2",
      "include_colab_link": true
    },
    "kernelspec": {
      "name": "python3",
      "display_name": "Python 3"
    },
    "language_info": {
      "name": "python"
    }
  },
  "cells": [
    {
      "cell_type": "markdown",
      "metadata": {
        "id": "view-in-github",
        "colab_type": "text"
      },
      "source": [
        "<a href=\"https://colab.research.google.com/github/EfrenJH/Estructura_de_Datos/blob/main/CadenaDeTexto.ipynb\" target=\"_parent\"><img src=\"https://colab.research.google.com/assets/colab-badge.svg\" alt=\"Open In Colab\"/></a>"
      ]
    },
    {
      "cell_type": "code",
      "execution_count": null,
      "metadata": {
        "colab": {
          "base_uri": "https://localhost:8080/"
        },
        "id": "9CbdJZHfAur0",
        "outputId": "b0dc8faa-83e7-4537-f021-4cef8cc25185"
      },
      "outputs": [
        {
          "output_type": "stream",
          "name": "stdout",
          "text": [
            "Ingrese una cadena de texto: hola como estas\n",
            "Pila de vocales: ['o', 'a', 'o', 'o', 'e', 'a']\n",
            "Pila de consonantes: ['h', 'l', 'c', 'm', 's', 't', 's']\n"
          ]
        }
      ],
      "source": [
        "class Pila:\n",
        "    def __init__(self):\n",
        "        self.items = []\n",
        "\n",
        "    def push(self, dato):\n",
        "        \"\"\"Agrega un elemento a la cima de la pila.\"\"\"\n",
        "        self.items.append(dato)\n",
        "\n",
        "    def pop(self):\n",
        "        \"\"\"Elimina y devuelve el elemento de la cima de la pila.\"\"\"\n",
        "        return self.items.pop() if not self.is_empty() else None\n",
        "\n",
        "    def is_empty(self):\n",
        "        \"\"\"Verifica si la pila está vacía.\"\"\"\n",
        "        return len(self.items) == 0\n",
        "\n",
        "\n",
        "def separar_recursivo(cadena, i, pila_vocales, pila_consonantes):\n",
        "    \"\"\"Función recursiva que separa vocales y consonantes en pilas.\"\"\"\n",
        "    if i == len(cadena):\n",
        "        return\n",
        "\n",
        "    caracter = cadena[i].lower()\n",
        "\n",
        "    if caracter in \"aeiouáéíóú\":\n",
        "        pila_vocales.push(cadena[i])\n",
        "    elif caracter.isalpha():\n",
        "        pila_consonantes.push(cadena[i])\n",
        "\n",
        "    separar_recursivo(cadena, i + 1, pila_vocales, pila_consonantes)\n",
        "\n",
        "\n",
        "texto = input(\"Ingrese una cadena de texto: \")\n",
        "\n",
        "pila_vocales = Pila()\n",
        "pila_consonantes = Pila()\n",
        "\n",
        "separar_recursivo(texto, 0, pila_vocales, pila_consonantes)\n",
        "\n",
        "print(\"Pila de vocales:\", pila_vocales.items)\n",
        "print(\"Pila de consonantes:\", pila_consonantes.items)\n"
      ]
    }
  ]
}