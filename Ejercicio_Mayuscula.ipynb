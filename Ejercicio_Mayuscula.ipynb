{
  "nbformat": 4,
  "nbformat_minor": 0,
  "metadata": {
    "colab": {
      "provenance": [],
      "authorship_tag": "ABX9TyMeUqRO6918wBwk71Izp007",
      "include_colab_link": true
    },
    "kernelspec": {
      "name": "python3",
      "display_name": "Python 3"
    },
    "language_info": {
      "name": "python"
    }
  },
  "cells": [
    {
      "cell_type": "markdown",
      "metadata": {
        "id": "view-in-github",
        "colab_type": "text"
      },
      "source": [
        "<a href=\"https://colab.research.google.com/github/EfrenJH/Efr-n-Jacobo-Hern-ndez---Estructura-de-Datos/blob/main/Ejercicio_Mayuscula.ipynb\" target=\"_parent\"><img src=\"https://colab.research.google.com/assets/colab-badge.svg\" alt=\"Open In Colab\"/></a>"
      ]
    },
    {
      "cell_type": "markdown",
      "source": [
        "En Mayúsculas -> DETERMINÍSTICO\n",
        "Crea una función que reciba un String de cualquier tipo y se encargue de:\n",
        "- Poner en mayúscula la primera letra de cada palabra\n",
        "- No se pueden utilizar operaciones del lenguaje que lo resuelvan directamente\n",
        "\n",
        "Determinar qué operaciones:\n",
        "Es de tipo BINARIO (dado que se van a realizar comparaciones por cada uno de los carácteres)\n",
        "\n",
        "Determinar conjuntos de datos:\n",
        "Espacios en blanco y que si la primera letra ya se encuentra en mayúscula\n",
        "\n",
        "Análisis a priori:\n",
        "Se compara cada carácter de la longitud de todo el String\n",
        "\n",
        "Análisis a posteriori:\n",
        "Conforme va avanzando las comparaciones del String el tiempo va a ir aumentando"
      ],
      "metadata": {
        "id": "bdNP2r-R7A9H"
      }
    },
    {
      "cell_type": "code",
      "execution_count": null,
      "metadata": {
        "colab": {
          "base_uri": "https://localhost:8080/"
        },
        "id": "kLnH11Yu5BHC",
        "outputId": "00bf3a98-7661-43bd-cd54-fcb8c03e4fad"
      },
      "outputs": [
        {
          "output_type": "stream",
          "name": "stdout",
          "text": [
            "Texto original: hola mundo esto es una prueba\n",
            "Texto convertido: Hola Mundo Esto Es Una Prueba\n",
            "\n",
            "Texto original:   otra   prueba con   espacios \n",
            "Texto convertido:   Otra   Prueba Con   Espacios \n"
          ]
        }
      ],
      "source": [
        "class Cola:\n",
        "    def __init__(self):\n",
        "        self.items = []\n",
        "\n",
        "    def enqueue(self, dato):\n",
        "        self.items.append(dato)\n",
        "\n",
        "    def dequeue(self):\n",
        "        return self.items.pop(0) if not self.is_empty() else None\n",
        "\n",
        "    def front(self):\n",
        "        return self.items[0] if not self.is_empty() else None\n",
        "\n",
        "    def is_empty(self):\n",
        "        return len(self.items) == 0\n",
        "\n",
        "\n",
        "def mayuscula(texto):\n",
        "    if not texto:\n",
        "        return \"\"\n",
        "\n",
        "    cola = Cola()\n",
        "    for caracter in texto:\n",
        "        cola.enqueue(caracter)\n",
        "\n",
        "    resultado = \"\"\n",
        "    inicio_de_palabra = True\n",
        "\n",
        "    while not cola.is_empty():\n",
        "        caracter = cola.dequeue()\n",
        "        if inicio_de_palabra and 'a' <= caracter <= 'z':\n",
        "            resultado += chr(ord(caracter) - 32)\n",
        "        else:\n",
        "            resultado += caracter\n",
        "        inicio_de_palabra = (caracter == \" \")\n",
        "\n",
        "    return resultado\n",
        "\n",
        "\n",
        "texto = \"hola mundo esto es una prueba\"\n",
        "print(\"Texto original:\", texto)\n",
        "print(\"Texto convertido:\", mayuscula(texto))\n",
        "\n",
        "texto2 = \"  otra   prueba con   espacios \"\n",
        "print(\"\\nTexto original:\", texto2)\n",
        "print(\"Texto convertido:\", mayuscula(texto2))"
      ]
    }
  ]
}